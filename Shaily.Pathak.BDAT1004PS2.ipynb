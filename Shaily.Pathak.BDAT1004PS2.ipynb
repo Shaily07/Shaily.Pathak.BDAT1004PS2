{
 "cells": [
  {
   "cell_type": "markdown",
   "id": "f8a0d35e",
   "metadata": {},
   "source": [
    "Question 1\n",
    "Consider the following Python module:\n",
    "\n",
    "After importing the module into the interpreter, you execute:\n",
    ">>> b()\n",
    ">>> b()\n",
    ">>> b()\n",
    ">>> a\n",
    "?\n",
    "What value is displayed when the last expression (a) is evaluated? Explain your \n",
    "answer by indicating what happens in every executed statement."
   ]
  },
  {
   "cell_type": "code",
   "execution_count": 1,
   "id": "1866ec85",
   "metadata": {},
   "outputs": [],
   "source": [
    "a=0\n",
    "def b():\n",
    "    global a\n",
    "    a=c(a)\n",
    "def c(a):\n",
    "    return a+2"
   ]
  },
  {
   "cell_type": "code",
   "execution_count": 2,
   "id": "508b86ad",
   "metadata": {},
   "outputs": [],
   "source": [
    "b()"
   ]
  },
  {
   "cell_type": "code",
   "execution_count": 3,
   "id": "b397a001",
   "metadata": {},
   "outputs": [],
   "source": [
    "b()"
   ]
  },
  {
   "cell_type": "code",
   "execution_count": 4,
   "id": "6ce7a5f2",
   "metadata": {},
   "outputs": [],
   "source": [
    "b()"
   ]
  },
  {
   "cell_type": "code",
   "execution_count": 5,
   "id": "5fee47ae",
   "metadata": {},
   "outputs": [
    {
     "data": {
      "text/plain": [
       "6"
      ]
     },
     "execution_count": 5,
     "metadata": {},
     "output_type": "execute_result"
    }
   ],
   "source": [
    "a"
   ]
  },
  {
   "cell_type": "markdown",
   "id": "2add3537",
   "metadata": {},
   "source": [
    "execution will start from line 1 where value of a is defined as 0. When method b() is executed where a is global and it's value will be 0 and in the same method, method c is also called. Hence, method c(a) will be executed and returned value (value will be 2) will be stored in variable a as mentioned in method b (line #4). So when first b() is executed, value of 'a' will be 2. when second time b() is executed value of 'a' will be 4. when third time b() is executed value of 'a' will be 6. Therefore, When a is evaluated 6 will be displayed."
   ]
  },
  {
   "cell_type": "code",
   "execution_count": null,
   "id": "5c1abdaa",
   "metadata": {},
   "outputs": [],
   "source": [
    "Question 2\n",
    "Function fileLength(), given to you, takes the name of a file as input and returns \n",
    "the length of the file:\n",
    ">>> fileLength('midterm.py')\n",
    "284\n",
    ">>> fileLength('idterm.py')\n",
    "Traceback (most recent call last):\n",
    "File \"<pyshell#34>\", line 1, in <module>\n",
    " fileLength('idterm.py')\n",
    "File \"/Users/me/midterm.py\", line 3, in fileLength\n",
    " infile = open(filename)\n",
    "FileNotFoundError: [Errno 2] No such file or directory: \n",
    "'idterm.py'\n",
    "As shown above, if the file cannot be found by the interpreter or if it cannot be read \n",
    "as a text file, an exception will be raised. Modify function fileLength() so that a \n",
    "friendly message is printed instead:\n",
    ">>> fileLength('midterm.py')\n",
    "358\n",
    ">>> fileLength('idterm.py')\n",
    "File idterm.py not found."
   ]
  },
  {
   "cell_type": "code",
   "execution_count": 27,
   "id": "fd32250c",
   "metadata": {},
   "outputs": [],
   "source": [
    "def fileLength(filename):\n",
    "    try:\n",
    "        infile=open(filename)\n",
    "        file=infile.read()\n",
    "        infile.close()\n",
    "        lenght=len(file)\n",
    "        print(\"Lenght of file is:\" , lenght)\n",
    "    except:\n",
    "        print(\"File {} not found\".format(filename))"
   ]
  },
  {
   "cell_type": "code",
   "execution_count": 32,
   "id": "fcf7d535",
   "metadata": {},
   "outputs": [
    {
     "name": "stdout",
     "output_type": "stream",
     "text": [
      "Lenght of file is: 23407\n"
     ]
    }
   ],
   "source": [
    "fileLength('midterm.ipynb')"
   ]
  },
  {
   "cell_type": "code",
   "execution_count": 34,
   "id": "f0587ce5",
   "metadata": {},
   "outputs": [
    {
     "name": "stdout",
     "output_type": "stream",
     "text": [
      "File idterm.ipynb not found\n"
     ]
    }
   ],
   "source": [
    "fileLength('idterm.ipynb')"
   ]
  },
  {
   "cell_type": "code",
   "execution_count": null,
   "id": "db7ed17c",
   "metadata": {},
   "outputs": [],
   "source": []
  }
 ],
 "metadata": {
  "kernelspec": {
   "display_name": "Python 3 (ipykernel)",
   "language": "python",
   "name": "python3"
  },
  "language_info": {
   "codemirror_mode": {
    "name": "ipython",
    "version": 3
   },
   "file_extension": ".py",
   "mimetype": "text/x-python",
   "name": "python",
   "nbconvert_exporter": "python",
   "pygments_lexer": "ipython3",
   "version": "3.9.12"
  }
 },
 "nbformat": 4,
 "nbformat_minor": 5
}
